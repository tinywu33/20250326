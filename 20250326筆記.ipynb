{
  "nbformat": 4,
  "nbformat_minor": 0,
  "metadata": {
    "colab": {
      "private_outputs": true,
      "provenance": [],
      "toc_visible": true,
      "authorship_tag": "ABX9TyOUbjtrNuSKrbCUsDzr8L0P",
      "include_colab_link": true
    },
    "kernelspec": {
      "name": "python3",
      "display_name": "Python 3"
    },
    "language_info": {
      "name": "python"
    }
  },
  "cells": [
    {
      "cell_type": "markdown",
      "metadata": {
        "id": "view-in-github",
        "colab_type": "text"
      },
      "source": [
        "<a href=\"https://colab.research.google.com/github/tinywu33/20250326/blob/main/20250326%E7%AD%86%E8%A8%98.ipynb\" target=\"_parent\"><img src=\"https://colab.research.google.com/assets/colab-badge.svg\" alt=\"Open In Colab\"/></a>"
      ]
    },
    {
      "cell_type": "markdown",
      "source": [
        "##基本容器型別\n",
        "*list=>[ ]\n",
        "\n",
        "*tuple=>( )\n",
        "\n",
        "*dict=>{ }\n",
        "\n",
        "*set=>{ }"
      ],
      "metadata": {
        "id": "pO2esrCbi3O6"
      }
    },
    {
      "cell_type": "markdown",
      "source": [
        "##list v.s. tuple"
      ],
      "metadata": {
        "id": "qArC1J0Wjblj"
      }
    },
    {
      "cell_type": "code",
      "source": [
        "x=[1,2,3,4,5]\n",
        "y=(1,2,3,4,5)"
      ],
      "metadata": {
        "id": "NsFj3lOmjRSF"
      },
      "execution_count": null,
      "outputs": []
    },
    {
      "cell_type": "code",
      "source": [
        "type(x)"
      ],
      "metadata": {
        "id": "Z7Jmj_jkkpAy"
      },
      "execution_count": null,
      "outputs": []
    },
    {
      "cell_type": "code",
      "source": [
        "type(y)"
      ],
      "metadata": {
        "id": "f31mzoahj0Bq"
      },
      "execution_count": null,
      "outputs": []
    },
    {
      "cell_type": "code",
      "source": [
        "x[0]"
      ],
      "metadata": {
        "id": "gsR8ssEakwYE"
      },
      "execution_count": null,
      "outputs": []
    },
    {
      "cell_type": "code",
      "source": [
        "y[0]"
      ],
      "metadata": {
        "id": "oTdf9Zl3k4AK"
      },
      "execution_count": null,
      "outputs": []
    },
    {
      "cell_type": "code",
      "source": [
        "x[:3]"
      ],
      "metadata": {
        "id": "sgz8e2VzlO9f"
      },
      "execution_count": null,
      "outputs": []
    },
    {
      "cell_type": "code",
      "source": [
        "y[:3]"
      ],
      "metadata": {
        "id": "l1nl1PHulOfr"
      },
      "execution_count": null,
      "outputs": []
    },
    {
      "cell_type": "code",
      "source": [
        "x.append"
      ],
      "metadata": {
        "id": "pG-w4dKloij4"
      },
      "execution_count": null,
      "outputs": []
    },
    {
      "cell_type": "code",
      "source": [
        "y."
      ],
      "metadata": {
        "id": "JME1yQ8MnBDl"
      },
      "execution_count": null,
      "outputs": []
    },
    {
      "cell_type": "code",
      "source": [
        "x[2]=300\n",
        "x\n",
        "#tuple  無法覆蓋 y[2]=300 不行"
      ],
      "metadata": {
        "id": "fX52a43do7Qo"
      },
      "execution_count": null,
      "outputs": []
    },
    {
      "cell_type": "markdown",
      "source": [
        "##dict"
      ],
      "metadata": {
        "id": "-YxPIyyDpbRR"
      }
    },
    {
      "cell_type": "code",
      "source": [
        "d={}\n",
        "type(d)"
      ],
      "metadata": {
        "id": "21E-pEi7pdZr"
      },
      "execution_count": null,
      "outputs": []
    },
    {
      "cell_type": "code",
      "source": [
        "s=set()\n",
        "type(s)"
      ],
      "metadata": {
        "id": "re01I6MsptW0"
      },
      "execution_count": null,
      "outputs": []
    },
    {
      "cell_type": "code",
      "source": [
        "d['dog']='狗'\n",
        "d['cat']='貓'\n",
        "d"
      ],
      "metadata": {
        "id": "fo07IWu4qB6P"
      },
      "execution_count": null,
      "outputs": []
    },
    {
      "cell_type": "code",
      "source": [
        "d['cat']"
      ],
      "metadata": {
        "id": "SV05_c3pq_gR"
      },
      "execution_count": null,
      "outputs": []
    },
    {
      "cell_type": "code",
      "source": [
        "d.keys()"
      ],
      "metadata": {
        "id": "Sf8ikKTorG1j"
      },
      "execution_count": null,
      "outputs": []
    },
    {
      "cell_type": "code",
      "source": [
        "d.values()"
      ],
      "metadata": {
        "id": "Q-XV-crzrJ-1"
      },
      "execution_count": null,
      "outputs": []
    },
    {
      "cell_type": "markdown",
      "source": [
        "##應用練習\n",
        "使用萌典API...\n",
        "https://www.moedict.tw/uni/教室"
      ],
      "metadata": {
        "id": "AhcgA7rdrXuq"
      }
    },
    {
      "cell_type": "code",
      "source": [
        "#搜尋萌典API\n",
        "import requests\n",
        "data=requests.get('https://www.moedict.tw/uni/教室').json()"
      ],
      "metadata": {
        "id": "fxk43z8RsJLZ"
      },
      "execution_count": null,
      "outputs": []
    },
    {
      "cell_type": "code",
      "source": [
        "data"
      ],
      "metadata": {
        "id": "nnE93hIkxSrA"
      },
      "execution_count": null,
      "outputs": []
    },
    {
      "cell_type": "code",
      "source": [
        "type(data)"
      ],
      "metadata": {
        "id": "xhQc_DZkuXhi"
      },
      "execution_count": null,
      "outputs": []
    },
    {
      "cell_type": "code",
      "source": [
        "data['heteronyms']"
      ],
      "metadata": {
        "id": "G932BNuzwSNf"
      },
      "execution_count": null,
      "outputs": []
    },
    {
      "cell_type": "code",
      "source": [
        "type(data['heteronyms'])"
      ],
      "metadata": {
        "id": "4p_3v2QHdOZX"
      },
      "execution_count": null,
      "outputs": []
    },
    {
      "cell_type": "code",
      "source": [
        "data['heteronyms'][0]"
      ],
      "metadata": {
        "id": "bvfTfXn7yFIP"
      },
      "execution_count": null,
      "outputs": []
    },
    {
      "cell_type": "code",
      "source": [
        "data['heteronyms'][0]['definitions']"
      ],
      "metadata": {
        "id": "Yl9hxjUcyQyj"
      },
      "execution_count": null,
      "outputs": []
    },
    {
      "cell_type": "code",
      "source": [
        "type(data['heteronyms'][0]['definitions'])"
      ],
      "metadata": {
        "id": "2IzEAHTKeAJL"
      },
      "execution_count": null,
      "outputs": []
    },
    {
      "cell_type": "code",
      "source": [
        "data['heteronyms'][0]['definitions'][0]"
      ],
      "metadata": {
        "id": "qkLJhDIKeM6Y"
      },
      "execution_count": null,
      "outputs": []
    },
    {
      "cell_type": "code",
      "source": [
        "data['heteronyms'][0]['pinyin']"
      ],
      "metadata": {
        "id": "tTLpTQeZdxSw"
      },
      "execution_count": null,
      "outputs": []
    },
    {
      "cell_type": "code",
      "source": [
        "data['heteronyms'][0]['definitions'][0]"
      ],
      "metadata": {
        "id": "AnmqdvNpzKQZ"
      },
      "execution_count": null,
      "outputs": []
    },
    {
      "cell_type": "code",
      "source": [
        "data['heteronyms'][0]['definitions'][0]['def']"
      ],
      "metadata": {
        "id": "McfvYkQnzO1j"
      },
      "execution_count": null,
      "outputs": []
    },
    {
      "cell_type": "code",
      "source": [
        "def lookup(word):\n",
        "    data=requests.get(f'https://www.moedict.tw/uni/{word}').json()\n",
        "    return data['heteronyms'][0]['definitions'][0]['def']"
      ],
      "metadata": {
        "id": "WAqAHJuBza8k"
      },
      "execution_count": null,
      "outputs": []
    },
    {
      "cell_type": "code",
      "source": [
        "lookup('教室')"
      ],
      "metadata": {
        "id": "45xR9oUo0NNR"
      },
      "execution_count": null,
      "outputs": []
    },
    {
      "cell_type": "code",
      "source": [
        "lookup('學校')"
      ],
      "metadata": {
        "id": "K_-_uIMQ1kg9"
      },
      "execution_count": null,
      "outputs": []
    },
    {
      "cell_type": "code",
      "source": [
        "lookup('老師')"
      ],
      "metadata": {
        "id": "pmreH4Pt1j6k"
      },
      "execution_count": null,
      "outputs": []
    },
    {
      "cell_type": "markdown",
      "source": [
        "#基本語法\n",
        "*loops迴圈\n",
        "\n",
        "*functions函式\n",
        "\n",
        "*if statement條件式\n",
        "\n",
        "*Exception handling例外處理"
      ],
      "metadata": {
        "id": "CUT-rCUnigej"
      }
    },
    {
      "cell_type": "code",
      "execution_count": null,
      "metadata": {
        "id": "erTWoV3jhCGW"
      },
      "outputs": [],
      "source": []
    },
    {
      "cell_type": "markdown",
      "source": [
        "###if statements"
      ],
      "metadata": {
        "id": "RUjqf20Y3Ydl"
      }
    },
    {
      "cell_type": "code",
      "source": [
        "a=8\n",
        "b=5\n",
        "if a>b:\n",
        " print('a大於b')"
      ],
      "metadata": {
        "id": "lmXWw7_b3cDY"
      },
      "execution_count": null,
      "outputs": []
    },
    {
      "cell_type": "code",
      "source": [
        "a=4\n",
        "b=5\n",
        "if a>b:\n",
        " print('a大於>b')\n",
        "else:\n",
        " print('a小於b')"
      ],
      "metadata": {
        "id": "7YffR7nh3tk8"
      },
      "execution_count": null,
      "outputs": []
    },
    {
      "cell_type": "code",
      "source": [
        "a=5\n",
        "b=5\n",
        "if a>b:\n",
        " print('a大於b')\n",
        "elif a<b:\n",
        " print('a小於b')\n",
        "else:\n",
        " print('a等於b')"
      ],
      "metadata": {
        "id": "e5xVHnOZ335T"
      },
      "execution_count": null,
      "outputs": []
    },
    {
      "cell_type": "markdown",
      "source": [
        "##應用練習\n",
        "計算BMI,判斷健康狀況\n",
        "\n",
        "$bmi=\\frac{體重(公斤)}{身高(公尺)^2}$\n",
        "\n",
        "|BMI|健康狀況|\n",
        "|:-:|:--|\n",
        "|BMI<=18|體重太輕\n",
        "|19<=BMI<=24|體重適當\n",
        "|BMI>=27|體重太重\n",
        "\n"
      ],
      "metadata": {
        "id": "xKsFiUrO4udi"
      }
    },
    {
      "cell_type": "code",
      "source": [
        "kg=80\n",
        "cm=1.83\n",
        "bmi=round(kg/(cm*cm),2)\n",
        "if bmi<18:\n",
        " print('BMI='+str(bmi)+' ; '+str(kg)+'公斤，體重太輕')\n",
        "elif bmi>=24:\n",
        " print('BMI='+str(bmi)+' ; '+str(kg)+'公斤，體重太重')\n",
        "else:\n",
        " print('BMI='+str(bmi)+' ; '+str(kg)+'公斤，體重適當')"
      ],
      "metadata": {
        "id": "HJAiaQsk4Met"
      },
      "execution_count": null,
      "outputs": []
    },
    {
      "cell_type": "markdown",
      "source": [
        "##Exception Handling\n",
        "try:\n",
        "  程式區塊\n",
        "except Exception as e:\n",
        "  例外處理程式區塊"
      ],
      "metadata": {
        "id": "r1Eg3D9xgRs2"
      }
    },
    {
      "cell_type": "code",
      "source": [
        "def lookup02(word):\n",
        "    data=requests.get(f'https://www.moedict.tw/uni/{word}').json()\n",
        "    return data['heteronyms'][0]['definitions'][0]['def']"
      ],
      "metadata": {
        "id": "wfFgWO70gaa2"
      },
      "execution_count": null,
      "outputs": []
    },
    {
      "cell_type": "code",
      "source": [
        "lookup02('教柖')"
      ],
      "metadata": {
        "id": "YXJ3Xihkgznw"
      },
      "execution_count": null,
      "outputs": []
    },
    {
      "cell_type": "code",
      "source": [
        "def lookup03(word):\n",
        " try:\n",
        "  data=requests.get(f'https://www.moedict.tw/uni/{word}').json()\n",
        "  return data['heteronyms'][0]['definitions'][0]['def']\n",
        " except Exception as e:\n",
        "  print('查無此詞')\n",
        "  print(f'錯誤，原因是{e}')\n",
        "  return e"
      ],
      "metadata": {
        "id": "s5ko5vVjgybB"
      },
      "execution_count": null,
      "outputs": []
    },
    {
      "cell_type": "code",
      "source": [
        "lookup03('是非非柖')"
      ],
      "metadata": {
        "id": "qeyxtEMKlGO8"
      },
      "execution_count": null,
      "outputs": []
    },
    {
      "cell_type": "markdown",
      "source": [
        "##Loops(迴圈)\n",
        "for loops\n",
        "\n",
        "while loops"
      ],
      "metadata": {
        "id": "R7YPPAscmZHB"
      }
    },
    {
      "cell_type": "code",
      "source": [
        "x=[2,4,89,86,0]"
      ],
      "metadata": {
        "id": "txpKYKm2noLQ"
      },
      "execution_count": null,
      "outputs": []
    },
    {
      "cell_type": "code",
      "source": [
        "for i in range(5):\n",
        " print(i)"
      ],
      "metadata": {
        "id": "YBZS4pkSnvaB"
      },
      "execution_count": null,
      "outputs": []
    },
    {
      "cell_type": "code",
      "source": [
        "for i in range(5):\n",
        "  print(x[i])"
      ],
      "metadata": {
        "id": "DQV5iPKtmjdB"
      },
      "execution_count": null,
      "outputs": []
    },
    {
      "cell_type": "code",
      "source": [
        "for i in x:\n",
        "  print(i)"
      ],
      "metadata": {
        "id": "WW3bX6k8nDje"
      },
      "execution_count": null,
      "outputs": []
    },
    {
      "cell_type": "code",
      "source": [
        "y=(9,2,3,4,5)\n",
        "for i in y:\n",
        "  print(i)"
      ],
      "metadata": {
        "id": "6JTng2lPoDuk"
      },
      "execution_count": null,
      "outputs": []
    },
    {
      "cell_type": "code",
      "source": [
        "d"
      ],
      "metadata": {
        "id": "Wz_T26_hogdZ"
      },
      "execution_count": null,
      "outputs": []
    },
    {
      "cell_type": "code",
      "source": [
        "for i in d:\n",
        "  print(i)"
      ],
      "metadata": {
        "id": "9Pnrup_3oilr"
      },
      "execution_count": null,
      "outputs": []
    },
    {
      "cell_type": "code",
      "source": [
        "for i in d:\n",
        "  print(i+' => '+d[i])"
      ],
      "metadata": {
        "id": "tmlZIPG_oufJ"
      },
      "execution_count": null,
      "outputs": []
    },
    {
      "cell_type": "code",
      "source": [
        "!pip install turtle"
      ],
      "metadata": {
        "id": "ukvP0yCUqbI2"
      },
      "execution_count": null,
      "outputs": []
    },
    {
      "cell_type": "code",
      "source": [
        "import turtle\n",
        "for i in range(4):\n",
        "  turtle.forward(100)\n",
        "  turtle.left(90)"
      ],
      "metadata": {
        "collapsed": true,
        "id": "X2XrL9zWponA"
      },
      "execution_count": null,
      "outputs": []
    },
    {
      "cell_type": "markdown",
      "source": [
        "##gradio使用介紹\n"
      ],
      "metadata": {
        "id": "Txw8e8bPpGMK"
      }
    },
    {
      "cell_type": "code",
      "source": [
        "!pip install gradio"
      ],
      "metadata": {
        "collapsed": true,
        "id": "-5uyjYXJpKbO"
      },
      "execution_count": null,
      "outputs": []
    },
    {
      "cell_type": "code",
      "source": [
        "import gradio as gr\n",
        "def lookup03(word):\n",
        " try:\n",
        "  data=requests.get(f'https://www.moedict.tw/uni/{word}').json()\n",
        "  return data['heteronyms'][0]['definitions'][0]['def']\n",
        " except Exception as e:\n",
        "  return f'錯誤，可能無此詞語:【{word}】'"
      ],
      "metadata": {
        "id": "FpybXPWgrTCT"
      },
      "execution_count": null,
      "outputs": []
    },
    {
      "cell_type": "code",
      "source": [
        "lookup03('天上島嶼的鳥')"
      ],
      "metadata": {
        "id": "qhSdsCsUs3h_"
      },
      "execution_count": null,
      "outputs": []
    },
    {
      "cell_type": "code",
      "source": [
        "lookup03('飛鳥')"
      ],
      "metadata": {
        "id": "lRn7nZfPtgcV"
      },
      "execution_count": null,
      "outputs": []
    },
    {
      "cell_type": "code",
      "source": [
        "gr.Interface(lookup03,inputs='text',outputs='text',title='國語辭典').launch(share=True)"
      ],
      "metadata": {
        "collapsed": true,
        "id": "fPlWrkPTt6JJ"
      },
      "execution_count": null,
      "outputs": []
    },
    {
      "cell_type": "code",
      "source": [
        "def process(image):\n",
        " return image"
      ],
      "metadata": {
        "id": "Zp6qylsPyTku"
      },
      "execution_count": null,
      "outputs": []
    },
    {
      "cell_type": "code",
      "source": [
        "gr.Interface(process,'image','image').launch()"
      ],
      "metadata": {
        "id": "7e_OvzlsyqNL"
      },
      "execution_count": null,
      "outputs": []
    },
    {
      "cell_type": "code",
      "source": [
        "!pip install ultralytics"
      ],
      "metadata": {
        "collapsed": true,
        "id": "6Zd4A2me0qCK"
      },
      "execution_count": null,
      "outputs": []
    },
    {
      "cell_type": "code",
      "source": [
        "from ultralytics import YOLO"
      ],
      "metadata": {
        "id": "02n8pkCS1G3l"
      },
      "execution_count": null,
      "outputs": []
    },
    {
      "cell_type": "code",
      "source": [
        "model=YOLO('yolov8n.pt')"
      ],
      "metadata": {
        "id": "FrJcWwfj1OJM"
      },
      "execution_count": null,
      "outputs": []
    },
    {
      "cell_type": "code",
      "source": [
        "def process(image):\n",
        "  result=model(image,conf=0.5)\n",
        "  result_plot=result[0].plot()\n",
        "  return result_plot"
      ],
      "metadata": {
        "id": "ugz8ryZE1rfh"
      },
      "execution_count": null,
      "outputs": []
    },
    {
      "cell_type": "code",
      "source": [
        "gr.Interface(process,'image','image').launch(share=True)"
      ],
      "metadata": {
        "id": "WHVKJClM2Ybu"
      },
      "execution_count": null,
      "outputs": []
    }
  ]
}