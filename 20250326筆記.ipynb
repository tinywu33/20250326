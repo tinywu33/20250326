{
  "nbformat": 4,
  "nbformat_minor": 0,
  "metadata": {
    "colab": {
      "private_outputs": true,
      "provenance": [],
      "toc_visible": true,
      "authorship_tag": "ABX9TyMzGqPC4ryqucFJp7c+moiy",
      "include_colab_link": true
    },
    "kernelspec": {
      "name": "python3",
      "display_name": "Python 3"
    },
    "language_info": {
      "name": "python"
    }
  },
  "cells": [
    {
      "cell_type": "markdown",
      "metadata": {
        "id": "view-in-github",
        "colab_type": "text"
      },
      "source": [
        "<a href=\"https://colab.research.google.com/github/tinywu33/20250326/blob/main/20250326%E7%AD%86%E8%A8%98.ipynb\" target=\"_parent\"><img src=\"https://colab.research.google.com/assets/colab-badge.svg\" alt=\"Open In Colab\"/></a>"
      ]
    },
    {
      "cell_type": "markdown",
      "source": [
        "##基本容器型別\n",
        "*list=>[ ]\n",
        "\n",
        "*tuple=>( )\n",
        "\n",
        "*dict=>{ }\n",
        "\n",
        "*set=>{ }"
      ],
      "metadata": {
        "id": "pO2esrCbi3O6"
      }
    },
    {
      "cell_type": "markdown",
      "source": [
        "##list v.s. tuple"
      ],
      "metadata": {
        "id": "qArC1J0Wjblj"
      }
    },
    {
      "cell_type": "code",
      "source": [
        "x=[1,2,3,4,5]\n",
        "y=(1,2,3,4,5)"
      ],
      "metadata": {
        "id": "NsFj3lOmjRSF"
      },
      "execution_count": null,
      "outputs": []
    },
    {
      "cell_type": "code",
      "source": [
        "type(x)"
      ],
      "metadata": {
        "id": "Z7Jmj_jkkpAy"
      },
      "execution_count": null,
      "outputs": []
    },
    {
      "cell_type": "code",
      "source": [
        "type(y)"
      ],
      "metadata": {
        "id": "f31mzoahj0Bq"
      },
      "execution_count": null,
      "outputs": []
    },
    {
      "cell_type": "code",
      "source": [
        "x[0]"
      ],
      "metadata": {
        "id": "gsR8ssEakwYE"
      },
      "execution_count": null,
      "outputs": []
    },
    {
      "cell_type": "code",
      "source": [
        "y[0]"
      ],
      "metadata": {
        "id": "oTdf9Zl3k4AK"
      },
      "execution_count": null,
      "outputs": []
    },
    {
      "cell_type": "code",
      "source": [
        "x[:3]"
      ],
      "metadata": {
        "id": "sgz8e2VzlO9f"
      },
      "execution_count": null,
      "outputs": []
    },
    {
      "cell_type": "code",
      "source": [
        "y[:3]"
      ],
      "metadata": {
        "id": "l1nl1PHulOfr"
      },
      "execution_count": null,
      "outputs": []
    },
    {
      "cell_type": "code",
      "source": [
        "x.append"
      ],
      "metadata": {
        "id": "pG-w4dKloij4"
      },
      "execution_count": null,
      "outputs": []
    },
    {
      "cell_type": "code",
      "source": [
        "y."
      ],
      "metadata": {
        "id": "JME1yQ8MnBDl"
      },
      "execution_count": null,
      "outputs": []
    },
    {
      "cell_type": "code",
      "source": [
        "x[2]=300\n",
        "x\n",
        "#tuple  無法覆蓋 y[2]=300 不行"
      ],
      "metadata": {
        "id": "fX52a43do7Qo"
      },
      "execution_count": null,
      "outputs": []
    },
    {
      "cell_type": "markdown",
      "source": [
        "##dict"
      ],
      "metadata": {
        "id": "-YxPIyyDpbRR"
      }
    },
    {
      "cell_type": "code",
      "source": [
        "d={}\n",
        "type(d)"
      ],
      "metadata": {
        "id": "21E-pEi7pdZr"
      },
      "execution_count": null,
      "outputs": []
    },
    {
      "cell_type": "code",
      "source": [
        "s=set()\n",
        "type(s)"
      ],
      "metadata": {
        "id": "re01I6MsptW0"
      },
      "execution_count": null,
      "outputs": []
    },
    {
      "cell_type": "code",
      "source": [
        "d['dog']='狗'\n",
        "d['cat']='貓'\n",
        "d"
      ],
      "metadata": {
        "id": "fo07IWu4qB6P"
      },
      "execution_count": null,
      "outputs": []
    },
    {
      "cell_type": "code",
      "source": [
        "d['cat']"
      ],
      "metadata": {
        "id": "SV05_c3pq_gR"
      },
      "execution_count": null,
      "outputs": []
    },
    {
      "cell_type": "code",
      "source": [
        "d.keys()"
      ],
      "metadata": {
        "id": "Sf8ikKTorG1j"
      },
      "execution_count": null,
      "outputs": []
    },
    {
      "cell_type": "code",
      "source": [
        "d.values()"
      ],
      "metadata": {
        "id": "Q-XV-crzrJ-1"
      },
      "execution_count": null,
      "outputs": []
    },
    {
      "cell_type": "markdown",
      "source": [
        "##應用練習\n",
        "使用萌典API...\n",
        "https://www.moedict.tw/uni/教室"
      ],
      "metadata": {
        "id": "AhcgA7rdrXuq"
      }
    },
    {
      "cell_type": "code",
      "source": [
        "#搜尋萌典API\n",
        "import requests\n",
        "data=requests.get('https://www.moedict.tw/uni/教室').json()\n",
        "data"
      ],
      "metadata": {
        "id": "fxk43z8RsJLZ"
      },
      "execution_count": null,
      "outputs": []
    },
    {
      "cell_type": "code",
      "source": [
        "type(data)"
      ],
      "metadata": {
        "id": "xhQc_DZkuXhi"
      },
      "execution_count": null,
      "outputs": []
    },
    {
      "cell_type": "code",
      "source": [],
      "metadata": {
        "id": "D9LnsjIxuJxF"
      },
      "execution_count": null,
      "outputs": []
    },
    {
      "cell_type": "markdown",
      "source": [
        "#基本語法\n",
        "*loops迴圈\n",
        "\n",
        "*functions函式\n",
        "\n",
        "*if statement條件式\n",
        "\n",
        "*Exception 例外處理"
      ],
      "metadata": {
        "id": "CUT-rCUnigej"
      }
    },
    {
      "cell_type": "code",
      "execution_count": null,
      "metadata": {
        "id": "erTWoV3jhCGW"
      },
      "outputs": [],
      "source": []
    }
  ]
}